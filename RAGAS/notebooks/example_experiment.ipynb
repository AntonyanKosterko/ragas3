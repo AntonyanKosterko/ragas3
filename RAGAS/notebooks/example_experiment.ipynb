{
  "cells": [
    {
      "cell_type": "markdown",
      "metadata": {},
      "source": [
        "# Пример эксперимента с RAG системой\n",
        "\n",
        "Этот ноутбук демонстрирует, как использовать RAG систему для экспериментов и анализа результатов.\n"
      ]
    },
    {
      "cell_type": "code",
      "execution_count": null,
      "metadata": {},
      "outputs": [],
      "source": [
        "# Импорт необходимых библиотек\n",
        "import sys\n",
        "import os\n",
        "import yaml\n",
        "import pandas as pd\n",
        "import matplotlib.pyplot as plt\n",
        "import seaborn as sns\n",
        "\n",
        "# Добавляем путь к модулям\n",
        "sys.path.append('../src')\n",
        "\n",
        "from pipeline import create_rag_pipeline\n",
        "from evaluation import create_evaluator\n",
        "from data_processing import create_data_processor\n"
      ]
    }
  ],
  "metadata": {
    "language_info": {
      "name": "python"
    }
  },
  "nbformat": 4,
  "nbformat_minor": 2
}
